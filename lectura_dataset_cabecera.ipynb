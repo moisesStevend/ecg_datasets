{
 "cells": [
  {
   "cell_type": "code",
   "execution_count": 2,
   "id": "5fcae0b0-07a2-4496-9f41-5551d414108f",
   "metadata": {
    "tags": []
   },
   "outputs": [],
   "source": [
    "import numpy as np\n",
    "import matplotlib.pyplot as plt\n",
    "import pandas as pd\n",
    "from scipy import signal\n",
    "import glob"
   ]
  },
  {
   "cell_type": "markdown",
   "id": "78f8c3d1-901e-4e21-91dc-f4328408568f",
   "metadata": {},
   "source": [
    "## # Descarga del dataset"
   ]
  },
  {
   "cell_type": "code",
   "execution_count": 12,
   "id": "fc8feffe-6f4b-432f-9425-9e4c430d5ca5",
   "metadata": {
    "tags": []
   },
   "outputs": [],
   "source": [
    "path = \"https://raw.githubusercontent.com/moisesStevend/ecg_datasets/main/cabecera/ecg_agitado_p1.txt\""
   ]
  },
  {
   "cell_type": "code",
   "execution_count": 13,
   "id": "98d8246c-dc7d-4f50-8733-8158424bb5cc",
   "metadata": {
    "tags": []
   },
   "outputs": [
    {
     "name": "stdout",
     "output_type": "stream",
     "text": [
      "--2023-09-22 14:56:55--  https://raw.githubusercontent.com/moisesStevend/ecg_datasets/main/cabecera/ecg_agitado_p1.txt\n",
      "Resolving raw.githubusercontent.com (raw.githubusercontent.com)... 185.199.109.133, 185.199.108.133, 185.199.110.133, ...\n",
      "Connecting to raw.githubusercontent.com (raw.githubusercontent.com)|185.199.109.133|:443... connected.\n",
      "HTTP request sent, awaiting response... 200 OK\n",
      "Length: 1100711 (1,0M) [text/plain]\n",
      "Saving to: ‘ecg_agitado_p1.txt.1’\n",
      "\n",
      "ecg_agitado_p1.txt. 100%[===================>]   1,05M  --.-KB/s    in 0,1s    \n",
      "\n",
      "2023-09-22 14:56:55 (10,8 MB/s) - ‘ecg_agitado_p1.txt.1’ saved [1100711/1100711]\n",
      "\n"
     ]
    }
   ],
   "source": [
    "!wget \"https://raw.githubusercontent.com/moisesStevend/ecg_datasets/main/cabecera/ecg_agitado_p1.txt\""
   ]
  },
  {
   "cell_type": "markdown",
   "id": "af14d2cb-d50f-40f3-b12f-59c634be3a64",
   "metadata": {},
   "source": [
    "## # Lectura de la cabecera"
   ]
  },
  {
   "cell_type": "code",
   "execution_count": 27,
   "id": "3a95b088-7bff-4a71-a8ae-baf8510bab20",
   "metadata": {
    "tags": []
   },
   "outputs": [],
   "source": [
    "def lectura_cabecer(_path):\n",
    "    with open(_path) as f:\n",
    "        lines = f.readlines()[:3]\n",
    "\n",
    "    for i in lines:\n",
    "        print(i)\n",
    "\n",
    "    dict_header = eval(lines[1].replace(\"#\",\"\"))\n",
    "    \n",
    "    return dict_header\n"
   ]
  },
  {
   "cell_type": "code",
   "execution_count": 35,
   "id": "ee3d09d2-99e9-43ec-9d05-c33f2fbdb830",
   "metadata": {
    "tags": []
   },
   "outputs": [
    {
     "name": "stdout",
     "output_type": "stream",
     "text": [
      "# OpenSignals Text File Format. Version 1\n",
      "\n",
      "# {\"98:D3:71:FD:62:1F\": {\"position\": 0, \"device\": \"bitalino_rev\", \"device name\": \"98:D3:71:FD:62:1F\", \"device connection\": \"BTH98:D3:71:FD:62:1F\", \"sampling rate\": 1000, \"resolution\": [4, 1, 1, 1, 1, 10], \"firmware version\": 1282, \"comments\": \"\", \"keywords\": \"\", \"mode\": 0, \"sync interval\": 2, \"date\": \"2023-4-12\", \"time\": \"12:38:5.828\", \"channels\": [2], \"sensor\": [\"ECGBIT\"], \"label\": [\"A2\"], \"column\": [\"nSeq\", \"I1\", \"I2\", \"O1\", \"O2\", \"A2\"], \"special\": [{}], \"digital IO\": [0, 0, 1, 1]}}\n",
      "\n",
      "# EndOfHeader\n",
      "\n"
     ]
    },
    {
     "data": {
      "text/plain": [
       "({'98:D3:71:FD:62:1F': {'position': 0,\n",
       "   'device': 'bitalino_rev',\n",
       "   'device name': '98:D3:71:FD:62:1F',\n",
       "   'device connection': 'BTH98:D3:71:FD:62:1F',\n",
       "   'sampling rate': 1000,\n",
       "   'resolution': [4, 1, 1, 1, 1, 10],\n",
       "   'firmware version': 1282,\n",
       "   'comments': '',\n",
       "   'keywords': '',\n",
       "   'mode': 0,\n",
       "   'sync interval': 2,\n",
       "   'date': '2023-4-12',\n",
       "   'time': '12:38:5.828',\n",
       "   'channels': [2],\n",
       "   'sensor': ['ECGBIT'],\n",
       "   'label': ['A2'],\n",
       "   'column': ['nSeq', 'I1', 'I2', 'O1', 'O2', 'A2'],\n",
       "   'special': [{}],\n",
       "   'digital IO': [0, 0, 1, 1]}},\n",
       " 1000,\n",
       " [4, 1, 1, 1, 1, 10])"
      ]
     },
     "execution_count": 35,
     "metadata": {},
     "output_type": "execute_result"
    }
   ],
   "source": [
    "lc = lectura_cabecer('./ecg_agitado_p1.txt')\n",
    "lc, lc['98:D3:71:FD:62:1F'][\"sampling rate\"], lc['98:D3:71:FD:62:1F'][\"resolution\"]"
   ]
  },
  {
   "cell_type": "code",
   "execution_count": 37,
   "id": "ac1a1a24-7b60-4be9-ac72-bf8c98a2de83",
   "metadata": {
    "tags": []
   },
   "outputs": [
    {
     "name": "stdout",
     "output_type": "stream",
     "text": [
      "fs=1000, rs=10\n"
     ]
    }
   ],
   "source": [
    "fs = lc['98:D3:71:FD:62:1F'][\"sampling rate\"]\n",
    "rs = lc['98:D3:71:FD:62:1F'][\"resolution\"][-1]\n",
    "\n",
    "print(f\"fs={fs}, rs={rs}\")"
   ]
  },
  {
   "cell_type": "markdown",
   "id": "6b65c0d8-137b-4640-b530-67789a61ff68",
   "metadata": {},
   "source": [
    "## # Lectura de los datos"
   ]
  },
  {
   "cell_type": "code",
   "execution_count": 15,
   "id": "79a9550c-9538-40d6-ba99-37d9cbc76da4",
   "metadata": {
    "tags": []
   },
   "outputs": [
    {
     "data": {
      "text/plain": [
       "array([729., 744., 750., ..., 535., 533., 532.])"
      ]
     },
     "execution_count": 15,
     "metadata": {},
     "output_type": "execute_result"
    }
   ],
   "source": [
    "ecg = np.genfromtxt(path, skip_header=3)[:,-1]\n",
    "ecg"
   ]
  },
  {
   "cell_type": "code",
   "execution_count": null,
   "id": "5b2ec50a-cbd5-4db6-85ad-55f3f1fb91e6",
   "metadata": {},
   "outputs": [],
   "source": []
  }
 ],
 "metadata": {
  "kernelspec": {
   "display_name": "Python 3 (ipykernel)",
   "language": "python",
   "name": "python3"
  },
  "language_info": {
   "codemirror_mode": {
    "name": "ipython",
    "version": 3
   },
   "file_extension": ".py",
   "mimetype": "text/x-python",
   "name": "python",
   "nbconvert_exporter": "python",
   "pygments_lexer": "ipython3",
   "version": "3.11.3"
  }
 },
 "nbformat": 4,
 "nbformat_minor": 5
}
